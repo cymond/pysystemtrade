{
 "cells": [
  {
   "cell_type": "code",
   "execution_count": 1,
   "metadata": {
    "collapsed": true
   },
   "outputs": [
    {
     "data": {
      "text/plain": [
       "['daily_prices',\n 'get_fx_for_instrument',\n 'get_instrument_asset_classes',\n 'get_instrument_currency',\n 'get_instrument_list',\n 'get_instrument_raw_carry_data',\n 'get_raw_cost_data',\n 'get_raw_price',\n 'get_value_of_block_price_move',\n 'keys',\n 'methods']"
      ]
     },
     "execution_count": 1,
     "metadata": {},
     "output_type": "execute_result"
    }
   ],
   "source": [
    "from sysdata.csvdata import csvFuturesData\n",
    "data = csvFuturesData()\n",
    "data.methods()"
   ]
  },
  {
   "cell_type": "code",
   "execution_count": 2,
   "metadata": {},
   "outputs": [
    {
     "data": {
      "text/plain": [
       "['CORN',\n 'LEANHOG',\n 'LIVECOW',\n 'SOYBEAN',\n 'WHEAT',\n 'KR10',\n 'KR3',\n 'BOBL',\n 'BTP',\n 'BUND',\n 'OAT',\n 'SHATZ',\n 'US10',\n 'US2',\n 'US20',\n 'US5',\n 'V2X',\n 'VIX',\n 'KOSPI',\n 'AEX',\n 'CAC',\n 'SMI',\n 'NASDAQ',\n 'SP500',\n 'AUD',\n 'EUR',\n 'GBP',\n 'JPY',\n 'MXP',\n 'NZD',\n 'COPPER',\n 'GOLD',\n 'PALLAD',\n 'PLAT',\n 'CRUDE_W',\n 'GAS_US',\n 'EDOLLAR',\n 'EUROSTX']"
      ]
     },
     "execution_count": 2,
     "metadata": {},
     "output_type": "execute_result"
    }
   ],
   "source": [
    "data.keys()"
   ]
  },
  {
   "cell_type": "code",
   "execution_count": 2,
   "metadata": {},
   "outputs": [
    {
     "name": "stdout",
     "output_type": "stream",
     "text": [
      "2\n"
     ]
    }
   ],
   "source": [
    "#data.get_instrument_raw_carry_data('EDOLLAR')\n",
    "print(2)"
   ]
  },
  {
   "cell_type": "code",
   "execution_count": 2,
   "metadata": {},
   "outputs": [
    {
     "data": {
      "text/plain": [
       "['__class__',\n '__delattr__',\n '__dict__',\n '__dir__',\n '__doc__',\n '__eq__',\n '__format__',\n '__ge__',\n '__getattribute__',\n '__getitem__',\n '__gt__',\n '__hash__',\n '__init__',\n '__le__',\n '__lt__',\n '__module__',\n '__ne__',\n '__new__',\n '__reduce__',\n '__reduce_ex__',\n '__repr__',\n '__setattr__',\n '__sizeof__',\n '__str__',\n '__subclasshook__',\n '__weakref__',\n '_datapath',\n '_get_all_cost_data',\n '_get_default_currency',\n '_get_default_series',\n '_get_fx_cross',\n '_get_fx_data',\n '_get_instrument_data',\n 'daily_prices',\n 'get_fx_for_instrument',\n 'get_instrument_asset_classes',\n 'get_instrument_currency',\n 'get_instrument_list',\n 'get_instrument_raw_carry_data',\n 'get_raw_cost_data',\n 'get_raw_price',\n 'get_value_of_block_price_move',\n 'keys',\n 'log',\n 'methods']"
      ]
     },
     "execution_count": 2,
     "metadata": {},
     "output_type": "execute_result"
    }
   ],
   "source": [
    "dir(data)"
   ]
  },
  {
   "cell_type": "code",
   "execution_count": 1,
   "metadata": {},
   "outputs": [
    {
     "ename": "NameError",
     "evalue": "name 'csvFuturesData' is not defined",
     "traceback": [
      "\u001b[0;31m---------------------------------------------------------------------------\u001b[0m",
      "\u001b[0;31mNameError\u001b[0m                                 Traceback (most recent call last)",
      "\u001b[0;32m<ipython-input-1-194929803c11>\u001b[0m in \u001b[0;36m<module>\u001b[0;34m()\u001b[0m\n\u001b[0;32m----> 1\u001b[0;31m \u001b[0mdata\u001b[0m\u001b[0;34m=\u001b[0m\u001b[0mcsvFuturesData\u001b[0m\u001b[0;34m(\u001b[0m\u001b[0;34m\"sysdata.tests\"\u001b[0m\u001b[0;34m)\u001b[0m\u001b[0;34m\u001b[0m\u001b[0m\n\u001b[0m\u001b[1;32m      2\u001b[0m \u001b[0mdata\u001b[0m\u001b[0;34m\u001b[0m\u001b[0m\n",
      "\u001b[0;31mNameError\u001b[0m: name 'csvFuturesData' is not defined"
     ],
     "output_type": "error"
    }
   ],
   "source": [
    "from sysdata.csvdata import csvFuturesData\n",
    "data=csvFuturesData(\"sysdata.tests\")\n",
    "data"
   ]
  },
  {
   "cell_type": "code",
   "execution_count": 6,
   "metadata": {},
   "outputs": [
    {
     "data": {
      "text/plain": [
       "['EDOLLAR', 'US10', 'BUND']"
      ]
     },
     "execution_count": 6,
     "metadata": {},
     "output_type": "execute_result"
    }
   ],
   "source": [
    "data.keys()"
   ]
  },
  {
   "cell_type": "code",
   "execution_count": 8,
   "metadata": {},
   "outputs": [
    {
     "data": {
      "text/plain": [
       "'/home/lope/PycharmProjects/pysystemtrade/sysdata/pete/mosel'"
      ]
     },
     "execution_count": 8,
     "metadata": {},
     "output_type": "execute_result"
    }
   ],
   "source": [
    "from syscore.fileutils import get_pathname_for_package\n",
    "get_pathname_for_package(\"sysdata.pete.mosel\")"
   ]
  },
  {
   "cell_type": "code",
   "execution_count": 9,
   "metadata": {},
   "outputs": [
    {
     "data": {
      "text/html": [
       "<div>\n",
       "<table border=\"1\" class=\"dataframe\">\n",
       "  <thead>\n",
       "    <tr style=\"text-align: right;\">\n",
       "      <th></th>\n",
       "      <th>Instrument</th>\n",
       "      <th>Pointsize</th>\n",
       "      <th>AssetClass</th>\n",
       "      <th>Currency</th>\n",
       "      <th>Shortonly</th>\n",
       "    </tr>\n",
       "    <tr>\n",
       "      <th>Instrument</th>\n",
       "      <th></th>\n",
       "      <th></th>\n",
       "      <th></th>\n",
       "      <th></th>\n",
       "      <th></th>\n",
       "    </tr>\n",
       "  </thead>\n",
       "  <tbody>\n",
       "    <tr>\n",
       "      <th>EDOLLAR</th>\n",
       "      <td>EDOLLAR</td>\n",
       "      <td>2500</td>\n",
       "      <td>STIR</td>\n",
       "      <td>USD</td>\n",
       "      <td>False</td>\n",
       "    </tr>\n",
       "    <tr>\n",
       "      <th>US10</th>\n",
       "      <td>US10</td>\n",
       "      <td>1000</td>\n",
       "      <td>Bond</td>\n",
       "      <td>USD</td>\n",
       "      <td>False</td>\n",
       "    </tr>\n",
       "    <tr>\n",
       "      <th>BUND</th>\n",
       "      <td>BUND</td>\n",
       "      <td>1000</td>\n",
       "      <td>Bond</td>\n",
       "      <td>EUR</td>\n",
       "      <td>False</td>\n",
       "    </tr>\n",
       "  </tbody>\n",
       "</table>\n",
       "</div>"
      ],
      "text/plain": [
       "<div>\n",
       "<table border=\"1\" class=\"dataframe\">\n",
       "  <thead>\n",
       "    <tr style=\"text-align: right;\">\n",
       "      <th></th>\n",
       "      <th>Instrument</th>\n",
       "      <th>Pointsize</th>\n",
       "      <th>AssetClass</th>\n",
       "      <th>Currency</th>\n",
       "      <th>Shortonly</th>\n",
       "    </tr>\n",
       "    <tr>\n",
       "      <th>Instrument</th>\n",
       "      <th></th>\n",
       "      <th></th>\n",
       "      <th></th>\n",
       "      <th></th>\n",
       "      <th></th>\n",
       "    </tr>\n",
       "  </thead>\n",
       "  <tbody>\n",
       "    <tr>\n",
       "      <th>EDOLLAR</th>\n",
       "      <td>EDOLLAR</td>\n",
       "      <td>2500</td>\n",
       "      <td>STIR</td>\n",
       "      <td>USD</td>\n",
       "      <td>False</td>\n",
       "    </tr>\n",
       "    <tr>\n",
       "      <th>US10</th>\n",
       "      <td>US10</td>\n",
       "      <td>1000</td>\n",
       "      <td>Bond</td>\n",
       "      <td>USD</td>\n",
       "      <td>False</td>\n",
       "    </tr>\n",
       "    <tr>\n",
       "      <th>BUND</th>\n",
       "      <td>BUND</td>\n",
       "      <td>1000</td>\n",
       "      <td>Bond</td>\n",
       "      <td>EUR</td>\n",
       "      <td>False</td>\n",
       "    </tr>\n",
       "  </tbody>\n",
       "</table>\n",
       "</div>"
      ]
     },
     "execution_count": 9,
     "metadata": {},
     "output_type": "execute_result"
    }
   ],
   "source": [
    "data._get_instrument_data()"
   ]
  },
  {
   "cell_type": "code",
   "execution_count": 10,
   "metadata": {},
   "outputs": [
    {
     "name": "stdout",
     "output_type": "stream",
     "text": [
      "Kobi\n"
     ]
    }
   ],
   "source": [
    "print(\"Kobi\")"
   ]
  },
  {
   "cell_type": "code",
   "execution_count": 1,
   "metadata": {},
   "outputs": [
    {
     "data": {
      "text/plain": [
       "FuturesData object with 38 instruments"
      ]
     },
     "execution_count": 1,
     "metadata": {},
     "output_type": "execute_result"
    }
   ],
   "source": [
    "from private.SystemR.mysqldata import mysqlFuturesData\n",
    "data=mysqlFuturesData()\n",
    "data"
   ]
  },
  {
   "cell_type": "code",
   "execution_count": 2,
   "metadata": {},
   "outputs": [
    {
     "data": {
      "text/plain": [
       "['CORN',\n 'LEANHOG',\n 'LIVECOW',\n 'SOYBEAN',\n 'WHEAT',\n 'KR10',\n 'KR3',\n 'BOBL',\n 'BTP',\n 'BUND',\n 'OAT',\n 'SHATZ',\n 'US10',\n 'US2',\n 'US20',\n 'US5',\n 'V2X',\n 'VIX',\n 'KOSPI',\n 'AEX',\n 'CAC',\n 'SMI',\n 'NASDAQ',\n 'SP500',\n 'AUD',\n 'EUR',\n 'GBP',\n 'JPY',\n 'MXP',\n 'NZD',\n 'COPPER',\n 'GOLD',\n 'PALLAD',\n 'PLAT',\n 'CRUDE_W',\n 'GAS_US',\n 'EDOLLAR',\n 'EUROSTX']"
      ]
     },
     "execution_count": 2,
     "metadata": {},
     "output_type": "execute_result"
    }
   ],
   "source": [
    "data.keys()"
   ]
  },
  {
   "cell_type": "code",
   "execution_count": 2,
   "metadata": {},
   "outputs": [
    {
     "data": {
      "text/plain": [
       "DATETIME\n2017-08-16    97.985\n2017-08-17    98.015\nName: PRICE, dtype: float64"
      ]
     },
     "execution_count": 2,
     "metadata": {},
     "output_type": "execute_result"
    }
   ],
   "source": [
    "data=mysqlFuturesData()\n",
    "data.get_raw_price(\"EDOLLAR\").tail(2)"
   ]
  },
  {
   "cell_type": "code",
   "execution_count": 3,
   "metadata": {},
   "outputs": [
    {
     "data": {
      "text/html": [
       "<div>\n",
       "<table border=\"1\" class=\"dataframe\">\n",
       "  <thead>\n",
       "    <tr style=\"text-align: right;\">\n",
       "      <th></th>\n",
       "      <th>PRICE</th>\n",
       "      <th>CARRY</th>\n",
       "      <th>CARRY_CONTRACT</th>\n",
       "      <th>PRICE_CONTRACT</th>\n",
       "    </tr>\n",
       "    <tr>\n",
       "      <th>DATETIME</th>\n",
       "      <th></th>\n",
       "      <th></th>\n",
       "      <th></th>\n",
       "      <th></th>\n",
       "    </tr>\n",
       "  </thead>\n",
       "  <tbody>\n",
       "    <tr>\n",
       "      <th>2017-08-11</th>\n",
       "      <td>98.060</td>\n",
       "      <td>98.100</td>\n",
       "      <td>202003</td>\n",
       "      <td>202006</td>\n",
       "    </tr>\n",
       "    <tr>\n",
       "      <th>2017-08-14</th>\n",
       "      <td>98.035</td>\n",
       "      <td>98.075</td>\n",
       "      <td>202003</td>\n",
       "      <td>202006</td>\n",
       "    </tr>\n",
       "    <tr>\n",
       "      <th>2017-08-15</th>\n",
       "      <td>97.945</td>\n",
       "      <td>97.990</td>\n",
       "      <td>202006</td>\n",
       "      <td>202009</td>\n",
       "    </tr>\n",
       "    <tr>\n",
       "      <th>2017-08-16</th>\n",
       "      <td>97.985</td>\n",
       "      <td>98.030</td>\n",
       "      <td>202006</td>\n",
       "      <td>202009</td>\n",
       "    </tr>\n",
       "    <tr>\n",
       "      <th>2017-08-17</th>\n",
       "      <td>98.015</td>\n",
       "      <td>98.055</td>\n",
       "      <td>202006</td>\n",
       "      <td>202009</td>\n",
       "    </tr>\n",
       "  </tbody>\n",
       "</table>\n",
       "</div>"
      ],
      "text/plain": [
       "<div>\n",
       "<table border=\"1\" class=\"dataframe\">\n",
       "  <thead>\n",
       "    <tr style=\"text-align: right;\">\n",
       "      <th></th>\n",
       "      <th>PRICE</th>\n",
       "      <th>CARRY</th>\n",
       "      <th>CARRY_CONTRACT</th>\n",
       "      <th>PRICE_CONTRACT</th>\n",
       "    </tr>\n",
       "    <tr>\n",
       "      <th>DATETIME</th>\n",
       "      <th></th>\n",
       "      <th></th>\n",
       "      <th></th>\n",
       "      <th></th>\n",
       "    </tr>\n",
       "  </thead>\n",
       "  <tbody>\n",
       "    <tr>\n",
       "      <th>2017-08-11</th>\n",
       "      <td>98.060</td>\n",
       "      <td>98.100</td>\n",
       "      <td>202003</td>\n",
       "      <td>202006</td>\n",
       "    </tr>\n",
       "    <tr>\n",
       "      <th>2017-08-14</th>\n",
       "      <td>98.035</td>\n",
       "      <td>98.075</td>\n",
       "      <td>202003</td>\n",
       "      <td>202006</td>\n",
       "    </tr>\n",
       "    <tr>\n",
       "      <th>2017-08-15</th>\n",
       "      <td>97.945</td>\n",
       "      <td>97.990</td>\n",
       "      <td>202006</td>\n",
       "      <td>202009</td>\n",
       "    </tr>\n",
       "    <tr>\n",
       "      <th>2017-08-16</th>\n",
       "      <td>97.985</td>\n",
       "      <td>98.030</td>\n",
       "      <td>202006</td>\n",
       "      <td>202009</td>\n",
       "    </tr>\n",
       "    <tr>\n",
       "      <th>2017-08-17</th>\n",
       "      <td>98.015</td>\n",
       "      <td>98.055</td>\n",
       "      <td>202006</td>\n",
       "      <td>202009</td>\n",
       "    </tr>\n",
       "  </tbody>\n",
       "</table>\n",
       "</div>"
      ]
     },
     "execution_count": 3,
     "metadata": {},
     "output_type": "execute_result"
    }
   ],
   "source": [
    "data.get_instrument_raw_carry_data(\"EDOLLAR\").tail(5)"
   ]
  },
  {
   "cell_type": "code",
   "execution_count": 5,
   "metadata": {},
   "outputs": [
    {
     "data": {
      "text/plain": [
       "0.0025000000000000001"
      ]
     },
     "execution_count": 5,
     "metadata": {},
     "output_type": "execute_result"
    }
   ],
   "source": [
    "data.get_raw_cost_data(\"EDOLLAR\")['price_slippage']"
   ]
  },
  {
   "cell_type": "code",
   "execution_count": 3,
   "metadata": {},
   "outputs": [
    {
     "name": "stdout",
     "output_type": "stream",
     "text": [
      "Pete\n"
     ]
    }
   ],
   "source": [
    "data._get_all_cost_data()\n",
    "print(\"Pete\")"
   ]
  },
  {
   "cell_type": "code",
   "execution_count": 8,
   "metadata": {},
   "outputs": [
    {
     "ename": "AttributeError",
     "evalue": "'mysqlFuturesData' object has no attribute 'get_instrument_asset_classes'",
     "traceback": [
      "\u001b[0;31m---------------------------------------------------------------------------\u001b[0m",
      "\u001b[0;31mAttributeError\u001b[0m                            Traceback (most recent call last)",
      "\u001b[0;32m<ipython-input-8-608d45de251c>\u001b[0m in \u001b[0;36m<module>\u001b[0;34m()\u001b[0m\n\u001b[0;32m----> 1\u001b[0;31m \u001b[0mdata\u001b[0m\u001b[0;34m.\u001b[0m\u001b[0mget_instrument_asset_classes\u001b[0m\u001b[0;34m(\u001b[0m\u001b[0;34m)\u001b[0m\u001b[0;34m\u001b[0m\u001b[0m\n\u001b[0m",
      "\u001b[0;31mAttributeError\u001b[0m: 'mysqlFuturesData' object has no attribute 'get_instrument_asset_classes'"
     ],
     "output_type": "error"
    }
   ],
   "source": [
    "data.get_instrument_asset_classes()"
   ]
  },
  {
   "cell_type": "code",
   "execution_count": 12,
   "metadata": {},
   "outputs": [
    {
     "data": {
      "text/plain": [
       "'PeteAndrewsfx'"
      ]
     },
     "execution_count": 12,
     "metadata": {},
     "output_type": "execute_result"
    }
   ],
   "source": [
    "kobi = \"%s%sfx\" % (\"Pete\", \"Andrews\")\n",
    "kobi"
   ]
  },
  {
   "cell_type": "code",
   "execution_count": 2,
   "metadata": {},
   "outputs": [
    {
     "data": {
      "text/plain": [
       "4606    2017-05-01\n4607    2017-05-02\nName: DATETIME, dtype: object"
      ]
     },
     "execution_count": 2,
     "metadata": {},
     "output_type": "execute_result"
    }
   ],
   "source": [
    "data._get_fx_data(\"EUR\", \"USD\").tail(2)"
   ]
  },
  {
   "cell_type": "code",
   "execution_count": 2,
   "metadata": {},
   "outputs": [
    {
     "data": {
      "text/plain": [
       "4606   2017-05-01\n4607   2017-05-02\nName: DATETIME, dtype: datetime64[ns]"
      ]
     },
     "execution_count": 2,
     "metadata": {},
     "output_type": "execute_result"
    }
   ],
   "source": [
    "data=mysqlFuturesData()\n",
    "data._get_fx_data(\"EUR\", \"USD\").tail(2)"
   ]
  },
  {
   "cell_type": "code",
   "execution_count": 6,
   "metadata": {},
   "outputs": [
    {
     "data": {
      "text/plain": [
       "2015-12-09    1.09085\n2015-12-10    1.09641\nName: FX, dtype: float64"
      ]
     },
     "execution_count": 6,
     "metadata": {},
     "output_type": "execute_result"
    }
   ],
   "source": [
    "from sysdata.csvdata import csvFuturesData\n",
    "data=csvFuturesData(\"sysdata.tests\")\n",
    "data._get_fx_data(\"EUR\", \"USD\").tail(2)"
   ]
  },
  {
   "cell_type": "code",
   "execution_count": 2,
   "metadata": {},
   "outputs": [
    {
     "data": {
      "text/plain": [
       "DATETIME\n2017-04-19    1.072275\n2017-04-20    1.072625\n2017-04-21    1.071625\n2017-04-24    1.084625\n2017-04-25    1.089425\n2017-04-26    1.092125\n2017-04-27    1.090475\n2017-04-28    1.089775\n2017-05-01    1.089900\n2017-05-02    1.091375\nName: FX, dtype: float64"
      ]
     },
     "execution_count": 2,
     "metadata": {},
     "output_type": "execute_result"
    }
   ],
   "source": [
    "from private.SystemR.mysqldata import mysqlFuturesData\n",
    "data=mysqlFuturesData()\n",
    "data._get_fx_data(\"EUR\", \"USD\").tail(10)"
   ]
  },
  {
   "cell_type": "code",
   "execution_count": 10,
   "metadata": {},
   "outputs": [
    {
     "data": {
      "text/plain": [
       "FuturesData object with 38 instruments"
      ]
     },
     "execution_count": 10,
     "metadata": {},
     "output_type": "execute_result"
    }
   ],
   "source": [
    "from sysdata.csvdata import csvFuturesData\n",
    "data=csvFuturesData(\"private.SystemR.data\")\n",
    "data"
   ]
  },
  {
   "cell_type": "code",
   "execution_count": 56,
   "metadata": {},
   "outputs": [
    {
     "data": {
      "text/plain": [
       "2017-05-18    1.296950\n2017-05-19    1.295425\n2017-05-22    1.300175\n2017-05-23    1.299025\n2017-05-24    1.297425\n2017-05-25    1.298875\n2017-05-26    1.290450\n2017-05-29    1.284075\n2017-05-30    1.285875\n2017-05-31    1.289000\nName: FX, dtype: float64"
      ]
     },
     "execution_count": 56,
     "metadata": {},
     "output_type": "execute_result"
    }
   ],
   "source": [
    "data._get_fx_data(\"GBP\", \"USD\").tail(10)"
   ]
  },
  {
   "cell_type": "code",
   "execution_count": 1,
   "metadata": {},
   "outputs": [
    {
     "name": "stdout",
     "output_type": "stream",
     "text": [
      "pete\n"
     ]
    }
   ],
   "source": [
    "print(\"pete\")"
   ]
  },
  {
   "cell_type": "code",
   "execution_count": null,
   "metadata": {},
   "outputs": [],
   "source": [
    ""
   ]
  }
 ],
 "metadata": {
  "kernelspec": {
   "display_name": "Python 2",
   "language": "python",
   "name": "python2"
  },
  "language_info": {
   "codemirror_mode": {
    "name": "ipython",
    "version": 2.0
   },
   "file_extension": ".py",
   "mimetype": "text/x-python",
   "name": "python",
   "nbconvert_exporter": "python",
   "pygments_lexer": "ipython2",
   "version": "2.7.6"
  }
 },
 "nbformat": 4,
 "nbformat_minor": 0
}