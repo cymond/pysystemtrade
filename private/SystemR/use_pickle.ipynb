{
 "cells": [
  {
   "cell_type": "code",
   "execution_count": 9,
   "metadata": {
    "collapsed": true
   },
   "outputs": [
    {
     "data": {
      "text/plain": [
       "[]"
      ]
     },
     "execution_count": 9,
     "metadata": {},
     "output_type": "execute_result"
    }
   ],
   "source": [
    "import pandas as pd\n",
    "from systems.provided.futures_chapter15.estimatedsystem import futures_system\n",
    "from private.SystemR.mysqldata import mysqlFuturesData\n",
    "data = mysqlFuturesData()\n",
    "#system = futures_system(data=data, log_level=\"on\")\n",
    "#system = futures_system(log_level=\"on\")\n",
    "system.unpickle_cache(\"private.SystemR.system.pck\")\n",
    "system.get_items_for_instrument(\"EDOLLAR\") ## check empty cache"
   ]
  },
  {
   "cell_type": "code",
   "execution_count": null,
   "metadata": {},
   "outputs": [],
   "source": [
    ""
   ]
  }
 ],
 "metadata": {
  "kernelspec": {
   "display_name": "Python 2",
   "language": "python",
   "name": "python2"
  },
  "language_info": {
   "codemirror_mode": {
    "name": "ipython",
    "version": 2.0
   },
   "file_extension": ".py",
   "mimetype": "text/x-python",
   "name": "python",
   "nbconvert_exporter": "python",
   "pygments_lexer": "ipython2",
   "version": "2.7.6"
  }
 },
 "nbformat": 4,
 "nbformat_minor": 0
}